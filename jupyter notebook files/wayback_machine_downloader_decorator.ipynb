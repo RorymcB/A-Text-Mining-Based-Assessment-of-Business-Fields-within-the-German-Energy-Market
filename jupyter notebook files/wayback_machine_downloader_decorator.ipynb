{
 "cells": [
  {
   "cell_type": "code",
   "execution_count": null,
   "metadata": {},
   "outputs": [],
   "source": [
    "'''\n",
    "This script automates the implementation of the wayback machine downloader in the linux terminal.\n",
    "Information about the wayback machine downloader and its installation \n",
    "and implementaton can be found at the link below.\n",
    "\n",
    "https://github.com/hartator/wayback-machine-downloader\n",
    "'''"
   ]
  },
  {
   "cell_type": "code",
   "execution_count": null,
   "metadata": {},
   "outputs": [],
   "source": [
    "import pandas as pd\n",
    "import os\n",
    "import pickle\n",
    "import datetime\n",
    "import subprocess"
   ]
  },
  {
   "cell_type": "code",
   "execution_count": null,
   "metadata": {},
   "outputs": [],
   "source": [
    "## load list of urls and define the output folder path"
   ]
  },
  {
   "cell_type": "code",
   "execution_count": null,
   "metadata": {},
   "outputs": [],
   "source": [
    "websites=pickle.load(open('/path/to/websites/websites.p','rb'))"
   ]
  },
  {
   "cell_type": "code",
   "execution_count": null,
   "metadata": {},
   "outputs": [],
   "source": [
    "output_folder='/path/to/output'"
   ]
  },
  {
   "cell_type": "code",
   "execution_count": null,
   "metadata": {},
   "outputs": [],
   "source": [
    "## automate implementation of wayback machine downloader"
   ]
  },
  {
   "cell_type": "code",
   "execution_count": null,
   "metadata": {},
   "outputs": [],
   "source": [
    "cnt=0\n",
    "for ws in websites:\n",
    "    \n",
    "    #Save the current time as a variable and define the output folder path for the current url    \n",
    "    cnt+=1\n",
    "    time=[item for item in datetime.datetime.now().strftime('%A, %m.%d.%Y, %H:%M:%S').split(', ')]    \n",
    "    ws_output_folder=os.path.join(output_folder,ws)\n",
    "    \n",
    "    print('Count = ', cnt ,'\\n', ws,'\\n', ws_output_folder)\n",
    "    print('Started on',', '.join(time[:2]),'at',time[2])\n",
    "    \n",
    "    #Implement the wayback machine downloader for each url in the list of urls\n",
    "    if ws not in os.listdir(output_folder):\n",
    "        \n",
    "        # create output folder        \n",
    "        os.mkdir(ws_output_folder)\n",
    "        \n",
    "        # define command to implement in the wayback machine downloader\n",
    "        command = ['wayback_machine_downloader', \n",
    "                   '-d', str(ws_output_folder), \n",
    "                   '--all-timestamps',\n",
    "                   '-f', '20060000000000', \n",
    "                   '-x', '/\\.(gif|jpg|jpeg|png|js|css|ico|svg|woff|eot|ttf|mp|pdf)/i',\n",
    "                   '--concurrency', '5',\n",
    "                   str(ws)]\n",
    "        command=' '.join(command).split(' ')\n",
    "        \n",
    "        # run the wayback machine downloader\n",
    "        print('Downloading %s' % ws)\n",
    "        outputfilepath=os.path.join(ws_output_folder,'output.txt')\n",
    "        with open(outputfilepath, 'w') as fp:\n",
    "            subprocess.run(command,text=True,  stdout=fp)\n",
    "        fp.close()\n",
    "        print('\\n')\n",
    "    else:\n",
    "        print(ws, 'has already been downloaded','\\n')"
   ]
  }
 ],
 "metadata": {
  "kernelspec": {
   "display_name": "Python 3",
   "language": "python",
   "name": "python3"
  },
  "language_info": {
   "codemirror_mode": {
    "name": "ipython",
    "version": 3
   },
   "file_extension": ".py",
   "mimetype": "text/x-python",
   "name": "python",
   "nbconvert_exporter": "python",
   "pygments_lexer": "ipython3",
   "version": "3.7.3"
  },
  "toc": {
   "base_numbering": 1,
   "nav_menu": {},
   "number_sections": true,
   "sideBar": true,
   "skip_h1_title": false,
   "title_cell": "Table of Contents",
   "title_sidebar": "Contents",
   "toc_cell": false,
   "toc_position": {},
   "toc_section_display": true,
   "toc_window_display": false
  },
  "varInspector": {
   "cols": {
    "lenName": 16,
    "lenType": 16,
    "lenVar": 40
   },
   "kernels_config": {
    "python": {
     "delete_cmd_postfix": "",
     "delete_cmd_prefix": "del ",
     "library": "var_list.py",
     "varRefreshCmd": "print(var_dic_list())"
    },
    "r": {
     "delete_cmd_postfix": ") ",
     "delete_cmd_prefix": "rm(",
     "library": "var_list.r",
     "varRefreshCmd": "cat(var_dic_list()) "
    }
   },
   "types_to_exclude": [
    "module",
    "function",
    "builtin_function_or_method",
    "instance",
    "_Feature"
   ],
   "window_display": false
  }
 },
 "nbformat": 4,
 "nbformat_minor": 2
}
