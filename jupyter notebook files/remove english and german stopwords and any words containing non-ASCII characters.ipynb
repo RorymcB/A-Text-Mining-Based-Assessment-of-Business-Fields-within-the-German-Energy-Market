{
 "cells": [
  {
   "cell_type": "code",
   "execution_count": null,
   "metadata": {
    "ExecuteTime": {
     "end_time": "2020-10-15T13:04:09.778366Z",
     "start_time": "2020-10-15T13:04:08.691267Z"
    }
   },
   "outputs": [],
   "source": [
    "import pickle\n",
    "import pandas as pd\n",
    "import os\n",
    "import datetime\n",
    "from nltk.corpus import stopwords\n",
    "from multiprocessing import Pool\n",
    "import telegram_send as ts"
   ]
  },
  {
   "cell_type": "code",
   "execution_count": null,
   "metadata": {},
   "outputs": [],
   "source": [
    "# define number of cores to be used for multi core machines"
   ]
  },
  {
   "cell_type": "code",
   "execution_count": null,
   "metadata": {
    "ExecuteTime": {
     "end_time": "2020-10-15T13:04:13.787012Z",
     "start_time": "2020-10-15T13:04:09.792263Z"
    }
   },
   "outputs": [],
   "source": [
    "nc=int(input('How many cores should be used?: '))"
   ]
  },
  {
   "cell_type": "code",
   "execution_count": null,
   "metadata": {},
   "outputs": [],
   "source": [
    "# load the list of german place names and english and german stopwords"
   ]
  },
  {
   "cell_type": "code",
   "execution_count": null,
   "metadata": {
    "ExecuteTime": {
     "end_time": "2020-10-15T13:04:14.620891Z",
     "start_time": "2020-10-15T13:04:14.614203Z"
    }
   },
   "outputs": [],
   "source": [
    "with open('/path/to/folder/staedte_osm.txt') as f:\n",
    "    ct=f.readlines()"
   ]
  },
  {
   "cell_type": "code",
   "execution_count": null,
   "metadata": {
    "ExecuteTime": {
     "end_time": "2020-10-15T13:04:14.960313Z",
     "start_time": "2020-10-15T13:04:14.952187Z"
    }
   },
   "outputs": [],
   "source": [
    "ct=[x.strip().lower()[1:-1] for x in ct]"
   ]
  },
  {
   "cell_type": "code",
   "execution_count": null,
   "metadata": {
    "ExecuteTime": {
     "end_time": "2020-10-15T13:04:15.235675Z",
     "start_time": "2020-10-15T13:04:15.232261Z"
    }
   },
   "outputs": [],
   "source": [
    "sw=stopwords.words('english')"
   ]
  },
  {
   "cell_type": "code",
   "execution_count": null,
   "metadata": {
    "ExecuteTime": {
     "end_time": "2020-10-15T13:04:15.282098Z",
     "start_time": "2020-10-15T13:04:15.279654Z"
    }
   },
   "outputs": [],
   "source": [
    "swd=stopwords.words('german')"
   ]
  },
  {
   "cell_type": "code",
   "execution_count": null,
   "metadata": {},
   "outputs": [],
   "source": [
    "# combine lists of place names and stopwords"
   ]
  },
  {
   "cell_type": "code",
   "execution_count": null,
   "metadata": {
    "ExecuteTime": {
     "end_time": "2020-10-15T13:04:15.899472Z",
     "start_time": "2020-10-15T13:04:15.895873Z"
    }
   },
   "outputs": [],
   "source": [
    "stopwords=sw+swd+ct"
   ]
  },
  {
   "cell_type": "code",
   "execution_count": null,
   "metadata": {},
   "outputs": [],
   "source": [
    "# replace german specific characters in the stopwords and place names"
   ]
  },
  {
   "cell_type": "code",
   "execution_count": null,
   "metadata": {
    "ExecuteTime": {
     "end_time": "2020-10-15T13:04:16.116306Z",
     "start_time": "2020-10-15T13:04:16.101317Z"
    }
   },
   "outputs": [],
   "source": [
    "stopwords=[x.replace('ä','ae').replace('ö','oe').replace('ü','ue').replace('ß','ss') for x in stopwords]"
   ]
  },
  {
   "cell_type": "code",
   "execution_count": null,
   "metadata": {},
   "outputs": [],
   "source": [
    "# create a list of file paths for the text data"
   ]
  },
  {
   "cell_type": "code",
   "execution_count": null,
   "metadata": {
    "ExecuteTime": {
     "end_time": "2020-10-16T19:35:46.337703Z",
     "start_time": "2020-10-16T19:35:46.332030Z"
    }
   },
   "outputs": [],
   "source": [
    "ppath='/path/to/dataframes/containing/text'"
   ]
  },
  {
   "cell_type": "code",
   "execution_count": null,
   "metadata": {
    "ExecuteTime": {
     "end_time": "2020-10-16T19:35:50.790803Z",
     "start_time": "2020-10-16T19:35:50.787041Z"
    }
   },
   "outputs": [],
   "source": [
    "pfiles=[os.path.join(ppath,x) for x in os.listdir(ppath)]"
   ]
  },
  {
   "cell_type": "code",
   "execution_count": null,
   "metadata": {
    "ExecuteTime": {
     "end_time": "2020-10-16T19:35:55.212173Z",
     "start_time": "2020-10-16T19:35:55.209984Z"
    }
   },
   "outputs": [],
   "source": [
    "pfiles.sort()"
   ]
  },
  {
   "cell_type": "code",
   "execution_count": null,
   "metadata": {},
   "outputs": [],
   "source": [
    "# define the output folder filepath and the functions for removing\n",
    "# the stopwords and words containing non-ASCII characters"
   ]
  },
  {
   "cell_type": "code",
   "execution_count": null,
   "metadata": {
    "ExecuteTime": {
     "end_time": "2020-10-15T13:05:48.652128Z",
     "start_time": "2020-10-15T13:05:48.647115Z"
    }
   },
   "outputs": [],
   "source": [
    "def remove_stopwords(cell):\n",
    "    if pd.notna(cell):\n",
    "        return ' '.join([wrd for wrd in cell.split(' ') if wrd not in stopwords and len(wrd) > 2 and wrd.isascii()])"
   ]
  },
  {
   "cell_type": "code",
   "execution_count": null,
   "metadata": {
    "ExecuteTime": {
     "end_time": "2020-10-16T19:35:59.601728Z",
     "start_time": "2020-10-16T19:35:59.599507Z"
    }
   },
   "outputs": [],
   "source": [
    "pout='/path/to/output/folder'"
   ]
  },
  {
   "cell_type": "code",
   "execution_count": null,
   "metadata": {
    "ExecuteTime": {
     "end_time": "2020-10-15T13:06:01.945134Z",
     "start_time": "2020-10-15T13:06:01.936565Z"
    }
   },
   "outputs": [],
   "source": [
    "def rms(pfile):\n",
    "    \n",
    "    print('*'*10)\n",
    "    print('  ',pfile,'\\n',datetime.datetime.now())\n",
    "    print('*'*10)\n",
    "\n",
    "    start_count=datetime.datetime.now()\n",
    "    \n",
    "    npf=os.path.join(pout,os.path.basename(pfile))\n",
    "    \n",
    "    if os.path.basename(pfile) in os.listdir(pout):\n",
    "        print('Stopwords already removed')\n",
    "        \n",
    "    else:\n",
    "        with open (pfile ,'rb') as f:\n",
    "            df=pickle.load(f)\n",
    "        \n",
    "        print('Removing stopwords...')\n",
    "        df2=df.applymap(remove_stopwords) # apply function to text data\n",
    "        with open (npf ,'wb') as f:\n",
    "            pickle.dump(df2,f)\n",
    "    \n",
    "    end_count=datetime.datetime.now()\n",
    "    tt=end_count-start_count\n",
    "    \n",
    "    print(f'Time taken for {os.path.basename(pfile)} was {tt} \\n')"
   ]
  },
  {
   "cell_type": "code",
   "execution_count": null,
   "metadata": {},
   "outputs": [],
   "source": [
    "# try and apply the functions to the files containing the text and \n",
    "# send notice of the success or failure of the operation to a telegram account"
   ]
  },
  {
   "cell_type": "code",
   "execution_count": null,
   "metadata": {
    "ExecuteTime": {
     "end_time": "2020-10-14T22:14:38.957648Z",
     "start_time": "2020-10-14T22:14:33.011481Z"
    }
   },
   "outputs": [],
   "source": [
    "try:\n",
    "    with Pool(nc) as p:\n",
    "        p.map(rms, pfiles)\n",
    "except:\n",
    "    ts.send(messages=['error'])"
   ]
  },
  {
   "cell_type": "code",
   "execution_count": null,
   "metadata": {
    "ExecuteTime": {
     "end_time": "2020-10-15T16:25:27.648200Z",
     "start_time": "2020-10-15T16:25:27.513738Z"
    }
   },
   "outputs": [],
   "source": [
    "ts.send(messages=['finished removing stopwords'])"
   ]
  }
 ],
 "metadata": {
  "kernelspec": {
   "display_name": "Python 3",
   "language": "python",
   "name": "python3"
  },
  "language_info": {
   "codemirror_mode": {
    "name": "ipython",
    "version": 3
   },
   "file_extension": ".py",
   "mimetype": "text/x-python",
   "name": "python",
   "nbconvert_exporter": "python",
   "pygments_lexer": "ipython3",
   "version": "3.7.3"
  },
  "toc": {
   "base_numbering": 1,
   "nav_menu": {},
   "number_sections": true,
   "sideBar": true,
   "skip_h1_title": false,
   "title_cell": "Table of Contents",
   "title_sidebar": "Contents",
   "toc_cell": false,
   "toc_position": {},
   "toc_section_display": true,
   "toc_window_display": false
  },
  "varInspector": {
   "cols": {
    "lenName": 16,
    "lenType": 16,
    "lenVar": 40
   },
   "kernels_config": {
    "python": {
     "delete_cmd_postfix": "",
     "delete_cmd_prefix": "del ",
     "library": "var_list.py",
     "varRefreshCmd": "print(var_dic_list())"
    },
    "r": {
     "delete_cmd_postfix": ") ",
     "delete_cmd_prefix": "rm(",
     "library": "var_list.r",
     "varRefreshCmd": "cat(var_dic_list()) "
    }
   },
   "types_to_exclude": [
    "module",
    "function",
    "builtin_function_or_method",
    "instance",
    "_Feature"
   ],
   "window_display": false
  }
 },
 "nbformat": 4,
 "nbformat_minor": 4
}
