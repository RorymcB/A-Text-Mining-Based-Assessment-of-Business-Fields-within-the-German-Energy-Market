{
 "cells": [
  {
   "cell_type": "code",
   "execution_count": 1,
   "metadata": {
    "ExecuteTime": {
     "end_time": "2021-03-09T21:13:30.871191Z",
     "start_time": "2021-03-09T21:13:29.957345Z"
    }
   },
   "outputs": [],
   "source": [
    "import pandas as pd"
   ]
  },
  {
   "cell_type": "code",
   "execution_count": 93,
   "metadata": {
    "ExecuteTime": {
     "end_time": "2021-03-09T23:11:32.213992Z",
     "start_time": "2021-03-09T23:11:32.209167Z"
    }
   },
   "outputs": [],
   "source": [
    "p1='/path/to/results/of/categorisation/unigrams'"
   ]
  },
  {
   "cell_type": "code",
   "execution_count": 94,
   "metadata": {
    "ExecuteTime": {
     "end_time": "2021-03-09T23:11:33.351894Z",
     "start_time": "2021-03-09T23:11:33.347187Z"
    }
   },
   "outputs": [],
   "source": [
    "p2='/path/to/results/of/categorisation/bigrams'"
   ]
  },
  {
   "cell_type": "code",
   "execution_count": 95,
   "metadata": {
    "ExecuteTime": {
     "end_time": "2021-03-09T23:11:33.551963Z",
     "start_time": "2021-03-09T23:11:33.548270Z"
    }
   },
   "outputs": [],
   "source": [
    "p3='/path/to/results/of/categorisation/trigrams'"
   ]
  },
  {
   "cell_type": "code",
   "execution_count": 96,
   "metadata": {
    "ExecuteTime": {
     "end_time": "2021-03-09T23:11:45.814506Z",
     "start_time": "2021-03-09T23:11:34.628689Z"
    }
   },
   "outputs": [],
   "source": [
    "df1=pd.read_excel(p1,index_col=[0])"
   ]
  },
  {
   "cell_type": "code",
   "execution_count": 97,
   "metadata": {
    "ExecuteTime": {
     "end_time": "2021-03-09T23:11:56.969635Z",
     "start_time": "2021-03-09T23:11:45.817180Z"
    }
   },
   "outputs": [],
   "source": [
    "df2=pd.read_excel(p2,index_col=[0])"
   ]
  },
  {
   "cell_type": "code",
   "execution_count": 98,
   "metadata": {
    "ExecuteTime": {
     "end_time": "2021-03-09T23:12:08.127243Z",
     "start_time": "2021-03-09T23:11:56.971837Z"
    }
   },
   "outputs": [],
   "source": [
    "df3=pd.read_excel(p3,index_col=[0])"
   ]
  },
  {
   "cell_type": "code",
   "execution_count": 99,
   "metadata": {
    "ExecuteTime": {
     "end_time": "2021-03-09T23:12:09.049557Z",
     "start_time": "2021-03-09T23:12:09.008009Z"
    }
   },
   "outputs": [],
   "source": [
    "t1=df1.set_index('website').set_index('year',append=True)"
   ]
  },
  {
   "cell_type": "code",
   "execution_count": 100,
   "metadata": {
    "ExecuteTime": {
     "end_time": "2021-03-09T23:12:09.082407Z",
     "start_time": "2021-03-09T23:12:09.052589Z"
    }
   },
   "outputs": [],
   "source": [
    "t2=df2.set_index('website').set_index('year',append=True)"
   ]
  },
  {
   "cell_type": "code",
   "execution_count": 101,
   "metadata": {
    "ExecuteTime": {
     "end_time": "2021-03-09T23:12:09.119069Z",
     "start_time": "2021-03-09T23:12:09.086072Z"
    }
   },
   "outputs": [],
   "source": [
    "t3=df3.set_index('website').set_index('year',append=True)"
   ]
  },
  {
   "cell_type": "code",
   "execution_count": 103,
   "metadata": {
    "ExecuteTime": {
     "end_time": "2021-03-09T23:12:43.982792Z",
     "start_time": "2021-03-09T23:12:43.096861Z"
    }
   },
   "outputs": [],
   "source": [
    "df=t1.add(t2).add(t3)"
   ]
  },
  {
   "cell_type": "code",
   "execution_count": 105,
   "metadata": {
    "ExecuteTime": {
     "end_time": "2021-03-09T23:12:57.032123Z",
     "start_time": "2021-03-09T23:12:56.943136Z"
    }
   },
   "outputs": [],
   "source": [
    "norm=df.div(df.sum(axis=1),axis=0)*100"
   ]
  },
  {
   "cell_type": "code",
   "execution_count": 106,
   "metadata": {
    "ExecuteTime": {
     "end_time": "2021-03-09T23:13:05.591356Z",
     "start_time": "2021-03-09T23:13:05.587280Z"
    }
   },
   "outputs": [],
   "source": [
    "out='/path/to/output'"
   ]
  },
  {
   "cell_type": "code",
   "execution_count": 15,
   "metadata": {
    "ExecuteTime": {
     "end_time": "2021-03-01T07:13:55.295983Z",
     "start_time": "2021-03-01T07:13:54.444263Z"
    }
   },
   "outputs": [],
   "source": [
    "norm.to_csv(out)"
   ]
  }
 ],
 "metadata": {
  "kernelspec": {
   "display_name": "Python 3",
   "language": "python",
   "name": "python3"
  },
  "language_info": {
   "codemirror_mode": {
    "name": "ipython",
    "version": 3
   },
   "file_extension": ".py",
   "mimetype": "text/x-python",
   "name": "python",
   "nbconvert_exporter": "python",
   "pygments_lexer": "ipython3",
   "version": "3.7.3"
  },
  "toc": {
   "base_numbering": 1,
   "nav_menu": {},
   "number_sections": true,
   "sideBar": true,
   "skip_h1_title": false,
   "title_cell": "Table of Contents",
   "title_sidebar": "Contents",
   "toc_cell": false,
   "toc_position": {},
   "toc_section_display": true,
   "toc_window_display": false
  },
  "varInspector": {
   "cols": {
    "lenName": 16,
    "lenType": 16,
    "lenVar": 40
   },
   "kernels_config": {
    "python": {
     "delete_cmd_postfix": "",
     "delete_cmd_prefix": "del ",
     "library": "var_list.py",
     "varRefreshCmd": "print(var_dic_list())"
    },
    "r": {
     "delete_cmd_postfix": ") ",
     "delete_cmd_prefix": "rm(",
     "library": "var_list.r",
     "varRefreshCmd": "cat(var_dic_list()) "
    }
   },
   "types_to_exclude": [
    "module",
    "function",
    "builtin_function_or_method",
    "instance",
    "_Feature"
   ],
   "window_display": false
  }
 },
 "nbformat": 4,
 "nbformat_minor": 4
}
