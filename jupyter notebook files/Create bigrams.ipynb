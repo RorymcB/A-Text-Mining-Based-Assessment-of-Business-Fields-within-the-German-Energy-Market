{
 "cells": [
  {
   "cell_type": "code",
   "execution_count": null,
   "metadata": {
    "ExecuteTime": {
     "end_time": "2021-02-06T15:11:31.161814Z",
     "start_time": "2021-02-06T15:11:30.316552Z"
    }
   },
   "outputs": [],
   "source": [
    "import pickle\n",
    "import os\n",
    "import pandas as pd\n",
    "import nltk\n",
    "from nltk.tokenize import word_tokenize\n",
    "import telegram_send\n",
    "import datetime"
   ]
  },
  {
   "cell_type": "markdown",
   "metadata": {
    "heading_collapsed": true
   },
   "source": [
    "## Define file paths"
   ]
  },
  {
   "cell_type": "code",
   "execution_count": null,
   "metadata": {
    "ExecuteTime": {
     "end_time": "2021-02-06T15:11:31.168116Z",
     "start_time": "2021-02-06T15:11:31.166363Z"
    },
    "hidden": true
   },
   "outputs": [],
   "source": [
    "pin='/path/to/text'"
   ]
  },
  {
   "cell_type": "code",
   "execution_count": null,
   "metadata": {
    "ExecuteTime": {
     "end_time": "2021-02-06T15:11:31.301780Z",
     "start_time": "2021-02-06T15:11:31.299361Z"
    },
    "hidden": true
   },
   "outputs": [],
   "source": [
    "pout='/path/to/store/bigrams'"
   ]
  },
  {
   "cell_type": "code",
   "execution_count": null,
   "metadata": {
    "ExecuteTime": {
     "end_time": "2021-02-06T15:11:31.898973Z",
     "start_time": "2021-02-06T15:11:31.895335Z"
    },
    "hidden": true
   },
   "outputs": [],
   "source": [
    "files=[os.path.join(pin,x) for x in os.listdir(pin)]"
   ]
  },
  {
   "cell_type": "code",
   "execution_count": null,
   "metadata": {
    "ExecuteTime": {
     "end_time": "2021-02-06T15:11:41.175691Z",
     "start_time": "2021-02-06T15:11:41.172541Z"
    },
    "hidden": true
   },
   "outputs": [],
   "source": [
    "files_out=os.listdir(pout)"
   ]
  },
  {
   "cell_type": "markdown",
   "metadata": {
    "heading_collapsed": true
   },
   "source": [
    "## Create function to create bigrams"
   ]
  },
  {
   "cell_type": "code",
   "execution_count": null,
   "metadata": {
    "ExecuteTime": {
     "end_time": "2021-02-06T15:11:44.069601Z",
     "start_time": "2021-02-06T15:11:44.061229Z"
    },
    "hidden": true
   },
   "outputs": [],
   "source": [
    "def get_bigram(cell):\n",
    "    if pd.isna(cell):\n",
    "        return  cell\n",
    "    else:\n",
    "        tokens = nltk.word_tokenize(cell)\n",
    "        bigrm = nltk.bigrams(tokens)\n",
    "        bgm=[' '.join(bg) for bg in bigrm]\n",
    "        bgm=','.join(bgm)\n",
    "        return bgm"
   ]
  },
  {
   "cell_type": "markdown",
   "metadata": {
    "heading_collapsed": true
   },
   "source": [
    "## Apply function to each file containing text"
   ]
  },
  {
   "cell_type": "code",
   "execution_count": null,
   "metadata": {
    "ExecuteTime": {
     "end_time": "2021-02-06T15:11:50.883479Z",
     "start_time": "2021-02-06T15:11:50.737156Z"
    },
    "hidden": true,
    "scrolled": true
   },
   "outputs": [],
   "source": [
    "cnt=0\n",
    "starttime=datetime.datetime.now()\n",
    "for file in files:\n",
    "    cnt+=1\n",
    "    st=datetime.datetime.now()\n",
    "    bn=os.path.basename(file)\n",
    "    pout_new=os.path.join(pout,bn)\n",
    "    print(bn,f'{len(files)-cnt} files remaining')\n",
    "    \n",
    "    df=pickle.load(open(file,'rb'))\n",
    "    df_new=df.applymap(get_bigram)\n",
    "    \n",
    "    with open(pout_new,'wb') as f:\n",
    "        pickle.dump(df_new,f)\n",
    "    endtime=datetime.datetime.now()\n",
    "    tt=endtime-st\n",
    "    att=(endtime-starttime)/cnt\n",
    "    etr=(len(files)-cnt)*att\n",
    "    print(f'Time taken was {tt}')\n",
    "    print(f'Average time taken is {att}')\n",
    "    print(f'Estimated time remaining = {etr}')\n",
    "\n",
    "ttt=endtime-starttime\n",
    "print(f'Total time taken was {ttt}')   "
   ]
  },
  {
   "cell_type": "markdown",
   "metadata": {
    "heading_collapsed": true
   },
   "source": [
    "## Send notification to telegram account when finished"
   ]
  },
  {
   "cell_type": "code",
   "execution_count": null,
   "metadata": {
    "ExecuteTime": {
     "end_time": "2020-10-05T17:36:16.034583Z",
     "start_time": "2020-10-05T17:36:15.437091Z"
    },
    "hidden": true
   },
   "outputs": [],
   "source": [
    "telegram_send.send(messages=['Finished creating bigrams'])"
   ]
  }
 ],
 "metadata": {
  "kernelspec": {
   "display_name": "Python 3",
   "language": "python",
   "name": "python3"
  },
  "language_info": {
   "codemirror_mode": {
    "name": "ipython",
    "version": 3
   },
   "file_extension": ".py",
   "mimetype": "text/x-python",
   "name": "python",
   "nbconvert_exporter": "python",
   "pygments_lexer": "ipython3",
   "version": "3.7.3"
  },
  "toc": {
   "base_numbering": 1,
   "nav_menu": {},
   "number_sections": true,
   "sideBar": true,
   "skip_h1_title": false,
   "title_cell": "Table of Contents",
   "title_sidebar": "Contents",
   "toc_cell": false,
   "toc_position": {},
   "toc_section_display": true,
   "toc_window_display": false
  },
  "varInspector": {
   "cols": {
    "lenName": 16,
    "lenType": 16,
    "lenVar": 40
   },
   "kernels_config": {
    "python": {
     "delete_cmd_postfix": "",
     "delete_cmd_prefix": "del ",
     "library": "var_list.py",
     "varRefreshCmd": "print(var_dic_list())"
    },
    "r": {
     "delete_cmd_postfix": ") ",
     "delete_cmd_prefix": "rm(",
     "library": "var_list.r",
     "varRefreshCmd": "cat(var_dic_list()) "
    }
   },
   "types_to_exclude": [
    "module",
    "function",
    "builtin_function_or_method",
    "instance",
    "_Feature"
   ],
   "window_display": false
  }
 },
 "nbformat": 4,
 "nbformat_minor": 4
}
