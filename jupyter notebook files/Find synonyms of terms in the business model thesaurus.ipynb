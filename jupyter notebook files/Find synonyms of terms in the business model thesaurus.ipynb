{
 "cells": [
  {
   "cell_type": "code",
   "execution_count": 1,
   "metadata": {
    "ExecuteTime": {
     "end_time": "2021-01-04T20:15:08.273099Z",
     "start_time": "2021-01-04T20:15:08.010713Z"
    }
   },
   "outputs": [],
   "source": [
    "import pandas as pd\n",
    "from py_openthesaurus import OpenThesaurusDb"
   ]
  },
  {
   "cell_type": "markdown",
   "metadata": {
    "ExecuteTime": {
     "end_time": "2021-03-21T21:58:15.815006Z",
     "start_time": "2021-03-21T21:58:15.807187Z"
    }
   },
   "source": [
    "## Load OpenThesaurus"
   ]
  },
  {
   "cell_type": "code",
   "execution_count": 2,
   "metadata": {
    "ExecuteTime": {
     "end_time": "2021-01-04T20:15:09.518857Z",
     "start_time": "2021-01-04T20:15:09.513279Z"
    }
   },
   "outputs": [],
   "source": [
    "open_thesaurus = OpenThesaurusDb(host=\"localhost\", user=\"username\", passwd=\"password\", db_name=\"database_name\")"
   ]
  },
  {
   "cell_type": "markdown",
   "metadata": {},
   "source": [
    "## Load Business Model Thesaurus"
   ]
  },
  {
   "cell_type": "code",
   "execution_count": 3,
   "metadata": {
    "ExecuteTime": {
     "end_time": "2021-01-04T20:15:14.448248Z",
     "start_time": "2021-01-04T20:15:14.446207Z"
    }
   },
   "outputs": [],
   "source": [
    "p='/path/to/business/model/thesaurus'"
   ]
  },
  {
   "cell_type": "code",
   "execution_count": 4,
   "metadata": {
    "ExecuteTime": {
     "end_time": "2021-01-04T20:15:15.490538Z",
     "start_time": "2021-01-04T20:15:15.428178Z"
    }
   },
   "outputs": [],
   "source": [
    "df=pd.read_excel(p,index_col=None)"
   ]
  },
  {
   "cell_type": "markdown",
   "metadata": {},
   "source": [
    "## Extract descriptors from the Business Model Thesaurus"
   ]
  },
  {
   "cell_type": "code",
   "execution_count": 6,
   "metadata": {
    "ExecuteTime": {
     "end_time": "2021-01-04T20:15:27.207751Z",
     "start_time": "2021-01-04T20:15:27.197167Z"
    }
   },
   "outputs": [],
   "source": [
    "wrds=set()\n",
    "for col in df.columns:\n",
    "    for wrd in df[col].dropna().tolist():\n",
    "        wrds.add(wrd)"
   ]
  },
  {
   "cell_type": "markdown",
   "metadata": {},
   "source": [
    "## Create a dictionary of descriptors and their synonyms"
   ]
  },
  {
   "cell_type": "code",
   "execution_count": 9,
   "metadata": {
    "ExecuteTime": {
     "end_time": "2021-01-04T20:15:47.165702Z",
     "start_time": "2021-01-04T20:15:46.894364Z"
    }
   },
   "outputs": [],
   "source": [
    "wrd_dict=dict()\n",
    "for wrd in wrds:\n",
    "    synonyms = open_thesaurus.get_synonyms(word=wrd)\n",
    "    wrd_dict[wrd]=list(synonyms)"
   ]
  },
  {
   "cell_type": "markdown",
   "metadata": {},
   "source": [
    "## Create a dataframe from the dictionary"
   ]
  },
  {
   "cell_type": "code",
   "execution_count": 10,
   "metadata": {
    "ExecuteTime": {
     "end_time": "2021-01-04T20:15:47.678827Z",
     "start_time": "2021-01-04T20:15:47.640128Z"
    }
   },
   "outputs": [],
   "source": [
    "syns=pd.DataFrame.from_dict(wrd_dict, orient='index').dropna(how='all',axis=0)"
   ]
  },
  {
   "cell_type": "markdown",
   "metadata": {},
   "source": [
    "## Export the dataframe to an excel spreadsheet"
   ]
  },
  {
   "cell_type": "code",
   "execution_count": 12,
   "metadata": {
    "ExecuteTime": {
     "end_time": "2021-01-04T20:16:00.371291Z",
     "start_time": "2021-01-04T20:16:00.368761Z"
    }
   },
   "outputs": [],
   "source": [
    "out='/path/to/output/folder/for/synonyms'"
   ]
  },
  {
   "cell_type": "code",
   "execution_count": 13,
   "metadata": {
    "ExecuteTime": {
     "end_time": "2021-01-04T20:16:05.395740Z",
     "start_time": "2021-01-04T20:16:05.319016Z"
    }
   },
   "outputs": [],
   "source": [
    "syns.to_excel(out)"
   ]
  }
 ],
 "metadata": {
  "kernelspec": {
   "display_name": "Python 3",
   "language": "python",
   "name": "python3"
  },
  "language_info": {
   "codemirror_mode": {
    "name": "ipython",
    "version": 3
   },
   "file_extension": ".py",
   "mimetype": "text/x-python",
   "name": "python",
   "nbconvert_exporter": "python",
   "pygments_lexer": "ipython3",
   "version": "3.7.3"
  },
  "toc": {
   "base_numbering": 1,
   "nav_menu": {},
   "number_sections": true,
   "sideBar": true,
   "skip_h1_title": false,
   "title_cell": "Table of Contents",
   "title_sidebar": "Contents",
   "toc_cell": false,
   "toc_position": {},
   "toc_section_display": true,
   "toc_window_display": false
  },
  "varInspector": {
   "cols": {
    "lenName": 16,
    "lenType": 16,
    "lenVar": 40
   },
   "kernels_config": {
    "python": {
     "delete_cmd_postfix": "",
     "delete_cmd_prefix": "del ",
     "library": "var_list.py",
     "varRefreshCmd": "print(var_dic_list())"
    },
    "r": {
     "delete_cmd_postfix": ") ",
     "delete_cmd_prefix": "rm(",
     "library": "var_list.r",
     "varRefreshCmd": "cat(var_dic_list()) "
    }
   },
   "types_to_exclude": [
    "module",
    "function",
    "builtin_function_or_method",
    "instance",
    "_Feature"
   ],
   "window_display": false
  }
 },
 "nbformat": 4,
 "nbformat_minor": 2
}
